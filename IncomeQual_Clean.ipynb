{
 "cells": [
  {
   "cell_type": "code",
   "execution_count": 1,
   "metadata": {
    "collapsed": true
   },
   "outputs": [],
   "source": [
    "import pandas as pd \n",
    "import numpy as np\n",
    "import to_en\n",
    "import undummy_df\n",
    "import matplotlib.pyplot as plt\n",
    "from sklearn.preprocessing import LabelEncoder\n",
    "import seaborn as sn\n",
    "% matplotlib inline "
   ]
  },
  {
   "cell_type": "code",
   "execution_count": 2,
   "metadata": {
    "collapsed": true
   },
   "outputs": [],
   "source": [
    "color = 'lightblue'"
   ]
  },
  {
   "cell_type": "code",
   "execution_count": 3,
   "metadata": {
    "collapsed": true
   },
   "outputs": [],
   "source": [
    "#1\n",
    "en_df = to_en.get_en_df('income_train.csv')\n",
    "#en_df = to_en.get_en_df('income_test.csv')"
   ]
  },
  {
   "cell_type": "code",
   "execution_count": 4,
   "metadata": {
    "collapsed": true
   },
   "outputs": [],
   "source": [
    "#2\n",
    "df = en_df.copy()\n",
    "df = undummy_df.undummy_df(df)"
   ]
  },
  {
   "cell_type": "code",
   "execution_count": 5,
   "metadata": {
    "collapsed": true
   },
   "outputs": [],
   "source": [
    "#3 drop due to many Nan, and id (non-feature)\n",
    "df.drop(['rent_payment', 'years_behind_school', 'id'], axis = 1, inplace = True)"
   ]
  },
  {
   "cell_type": "code",
   "execution_count": 6,
   "metadata": {},
   "outputs": [
    {
     "name": "stdout",
     "output_type": "stream",
     "text": [
      "<class 'pandas.core.frame.DataFrame'>\n",
      "RangeIndex: 9557 entries, 0 to 9556\n",
      "Data columns (total 52 columns):\n",
      "overcrowding_by_bedrooms         9557 non-null int64\n",
      "rooms                            9557 non-null int64\n",
      "overcrowding_by_rooms            9557 non-null int64\n",
      "bathroom                         9557 non-null int64\n",
      "refrigerator                     9557 non-null int64\n",
      "num_tablets                      2215 non-null float64\n",
      "males_under_12                   9557 non-null int64\n",
      "males_over_12                    9557 non-null int64\n",
      "num_males                        9557 non-null int64\n",
      "females_under_12                 9557 non-null int64\n",
      "females_over_12                  9557 non-null int64\n",
      "num_females                      9557 non-null int64\n",
      "persons_under_12                 9557 non-null int64\n",
      "persons_over_12                  9557 non-null int64\n",
      "num_persons                      9557 non-null int64\n",
      "size_household                   9557 non-null int64\n",
      "number_persons_household         9557 non-null int64\n",
      "years_school                     9557 non-null int64\n",
      "ceiling                          9557 non-null int64\n",
      "disable_person                   9557 non-null int64\n",
      "female                           9557 non-null int64\n",
      "under_10                         9557 non-null int64\n",
      "household_id                     9557 non-null object\n",
      "num_minors                       9557 non-null int64\n",
      "num_adults                       9557 non-null int64\n",
      "num_over_65                      9557 non-null int64\n",
      "calc_dependency                  9557 non-null object\n",
      "mean_edu_adults                  9552 non-null float64\n",
      "num_bedrooms                     9557 non-null int64\n",
      "overcrowding_persons_per_room    9557 non-null float64\n",
      "computer                         9557 non-null int64\n",
      "tv                               9557 non-null int64\n",
      "num_mobile_phones                9557 non-null int64\n",
      "urban                            9557 non-null int64\n",
      "age                              9557 non-null int64\n",
      "Target                           9557 non-null int64\n",
      "wall_condition                   9557 non-null object\n",
      "roof_condition                   9557 non-null object\n",
      "floor_condition                  9557 non-null object\n",
      "roof_material                    9557 non-null object\n",
      "elec_provider                    9557 non-null object\n",
      "wall_material                    9557 non-null object\n",
      "relation                         9557 non-null object\n",
      "education                        9557 non-null object\n",
      "house_ownership                  9557 non-null object\n",
      "region                           9557 non-null object\n",
      "marital_status                   9557 non-null object\n",
      "water_supply                     9557 non-null object\n",
      "cooking_supply                   9557 non-null object\n",
      "floor_material                   9557 non-null object\n",
      "sewage                           9557 non-null object\n",
      "thrash_disposal                  9557 non-null object\n",
      "dtypes: float64(3), int64(31), object(18)\n",
      "memory usage: 3.8+ MB\n",
      "Target [4 2 3 1]\n"
     ]
    }
   ],
   "source": [
    "#4\n",
    "df.info()\n",
    "print('Target {}' .format(df.Target.unique()))"
   ]
  },
  {
   "cell_type": "code",
   "execution_count": 7,
   "metadata": {},
   "outputs": [
    {
     "data": {
      "text/html": [
       "<div>\n",
       "<style>\n",
       "    .dataframe thead tr:only-child th {\n",
       "        text-align: right;\n",
       "    }\n",
       "\n",
       "    .dataframe thead th {\n",
       "        text-align: left;\n",
       "    }\n",
       "\n",
       "    .dataframe tbody tr th {\n",
       "        vertical-align: top;\n",
       "    }\n",
       "</style>\n",
       "<table border=\"1\" class=\"dataframe\">\n",
       "  <thead>\n",
       "    <tr style=\"text-align: right;\">\n",
       "      <th></th>\n",
       "      <th>overcrowding_by_bedrooms</th>\n",
       "      <th>rooms</th>\n",
       "      <th>overcrowding_by_rooms</th>\n",
       "      <th>bathroom</th>\n",
       "      <th>refrigerator</th>\n",
       "      <th>num_tablets</th>\n",
       "      <th>males_under_12</th>\n",
       "      <th>males_over_12</th>\n",
       "      <th>num_males</th>\n",
       "      <th>females_under_12</th>\n",
       "      <th>...</th>\n",
       "      <th>num_over_65</th>\n",
       "      <th>mean_edu_adults</th>\n",
       "      <th>num_bedrooms</th>\n",
       "      <th>overcrowding_persons_per_room</th>\n",
       "      <th>computer</th>\n",
       "      <th>tv</th>\n",
       "      <th>num_mobile_phones</th>\n",
       "      <th>urban</th>\n",
       "      <th>age</th>\n",
       "      <th>Target</th>\n",
       "    </tr>\n",
       "  </thead>\n",
       "  <tbody>\n",
       "    <tr>\n",
       "      <th>count</th>\n",
       "      <td>9557.000000</td>\n",
       "      <td>9557.000000</td>\n",
       "      <td>9557.000000</td>\n",
       "      <td>9557.000000</td>\n",
       "      <td>9557.000000</td>\n",
       "      <td>2215.000000</td>\n",
       "      <td>9557.000000</td>\n",
       "      <td>9557.000000</td>\n",
       "      <td>9557.000000</td>\n",
       "      <td>9557.000000</td>\n",
       "      <td>...</td>\n",
       "      <td>9557.000000</td>\n",
       "      <td>9552.000000</td>\n",
       "      <td>9557.000000</td>\n",
       "      <td>9557.000000</td>\n",
       "      <td>9557.000000</td>\n",
       "      <td>9557.000000</td>\n",
       "      <td>9557.000000</td>\n",
       "      <td>9557.000000</td>\n",
       "      <td>9557.000000</td>\n",
       "      <td>9557.000000</td>\n",
       "    </tr>\n",
       "    <tr>\n",
       "      <th>mean</th>\n",
       "      <td>0.038087</td>\n",
       "      <td>4.955530</td>\n",
       "      <td>0.023648</td>\n",
       "      <td>0.994768</td>\n",
       "      <td>0.957623</td>\n",
       "      <td>1.404063</td>\n",
       "      <td>0.385895</td>\n",
       "      <td>1.559171</td>\n",
       "      <td>1.945066</td>\n",
       "      <td>0.399184</td>\n",
       "      <td>...</td>\n",
       "      <td>0.284085</td>\n",
       "      <td>9.231523</td>\n",
       "      <td>2.739981</td>\n",
       "      <td>1.605380</td>\n",
       "      <td>0.102124</td>\n",
       "      <td>0.284608</td>\n",
       "      <td>2.821492</td>\n",
       "      <td>0.714555</td>\n",
       "      <td>34.303547</td>\n",
       "      <td>3.302292</td>\n",
       "    </tr>\n",
       "    <tr>\n",
       "      <th>std</th>\n",
       "      <td>0.191417</td>\n",
       "      <td>1.468381</td>\n",
       "      <td>0.151957</td>\n",
       "      <td>0.072145</td>\n",
       "      <td>0.201459</td>\n",
       "      <td>0.763131</td>\n",
       "      <td>0.680779</td>\n",
       "      <td>1.036574</td>\n",
       "      <td>1.188852</td>\n",
       "      <td>0.692460</td>\n",
       "      <td>...</td>\n",
       "      <td>0.597163</td>\n",
       "      <td>4.167694</td>\n",
       "      <td>0.944507</td>\n",
       "      <td>0.819946</td>\n",
       "      <td>0.302827</td>\n",
       "      <td>0.451251</td>\n",
       "      <td>1.483249</td>\n",
       "      <td>0.451650</td>\n",
       "      <td>21.612261</td>\n",
       "      <td>1.009565</td>\n",
       "    </tr>\n",
       "    <tr>\n",
       "      <th>min</th>\n",
       "      <td>0.000000</td>\n",
       "      <td>1.000000</td>\n",
       "      <td>0.000000</td>\n",
       "      <td>0.000000</td>\n",
       "      <td>0.000000</td>\n",
       "      <td>1.000000</td>\n",
       "      <td>0.000000</td>\n",
       "      <td>0.000000</td>\n",
       "      <td>0.000000</td>\n",
       "      <td>0.000000</td>\n",
       "      <td>...</td>\n",
       "      <td>0.000000</td>\n",
       "      <td>0.000000</td>\n",
       "      <td>1.000000</td>\n",
       "      <td>0.200000</td>\n",
       "      <td>0.000000</td>\n",
       "      <td>0.000000</td>\n",
       "      <td>0.000000</td>\n",
       "      <td>0.000000</td>\n",
       "      <td>0.000000</td>\n",
       "      <td>1.000000</td>\n",
       "    </tr>\n",
       "    <tr>\n",
       "      <th>25%</th>\n",
       "      <td>0.000000</td>\n",
       "      <td>4.000000</td>\n",
       "      <td>0.000000</td>\n",
       "      <td>1.000000</td>\n",
       "      <td>1.000000</td>\n",
       "      <td>1.000000</td>\n",
       "      <td>0.000000</td>\n",
       "      <td>1.000000</td>\n",
       "      <td>1.000000</td>\n",
       "      <td>0.000000</td>\n",
       "      <td>...</td>\n",
       "      <td>0.000000</td>\n",
       "      <td>6.000000</td>\n",
       "      <td>2.000000</td>\n",
       "      <td>1.000000</td>\n",
       "      <td>0.000000</td>\n",
       "      <td>0.000000</td>\n",
       "      <td>2.000000</td>\n",
       "      <td>0.000000</td>\n",
       "      <td>17.000000</td>\n",
       "      <td>3.000000</td>\n",
       "    </tr>\n",
       "    <tr>\n",
       "      <th>50%</th>\n",
       "      <td>0.000000</td>\n",
       "      <td>5.000000</td>\n",
       "      <td>0.000000</td>\n",
       "      <td>1.000000</td>\n",
       "      <td>1.000000</td>\n",
       "      <td>1.000000</td>\n",
       "      <td>0.000000</td>\n",
       "      <td>1.000000</td>\n",
       "      <td>2.000000</td>\n",
       "      <td>0.000000</td>\n",
       "      <td>...</td>\n",
       "      <td>0.000000</td>\n",
       "      <td>9.000000</td>\n",
       "      <td>3.000000</td>\n",
       "      <td>1.500000</td>\n",
       "      <td>0.000000</td>\n",
       "      <td>0.000000</td>\n",
       "      <td>3.000000</td>\n",
       "      <td>1.000000</td>\n",
       "      <td>31.000000</td>\n",
       "      <td>4.000000</td>\n",
       "    </tr>\n",
       "    <tr>\n",
       "      <th>75%</th>\n",
       "      <td>0.000000</td>\n",
       "      <td>6.000000</td>\n",
       "      <td>0.000000</td>\n",
       "      <td>1.000000</td>\n",
       "      <td>1.000000</td>\n",
       "      <td>2.000000</td>\n",
       "      <td>1.000000</td>\n",
       "      <td>2.000000</td>\n",
       "      <td>3.000000</td>\n",
       "      <td>1.000000</td>\n",
       "      <td>...</td>\n",
       "      <td>0.000000</td>\n",
       "      <td>11.600000</td>\n",
       "      <td>3.000000</td>\n",
       "      <td>2.000000</td>\n",
       "      <td>0.000000</td>\n",
       "      <td>1.000000</td>\n",
       "      <td>4.000000</td>\n",
       "      <td>1.000000</td>\n",
       "      <td>51.000000</td>\n",
       "      <td>4.000000</td>\n",
       "    </tr>\n",
       "    <tr>\n",
       "      <th>max</th>\n",
       "      <td>1.000000</td>\n",
       "      <td>11.000000</td>\n",
       "      <td>1.000000</td>\n",
       "      <td>1.000000</td>\n",
       "      <td>1.000000</td>\n",
       "      <td>6.000000</td>\n",
       "      <td>5.000000</td>\n",
       "      <td>8.000000</td>\n",
       "      <td>8.000000</td>\n",
       "      <td>6.000000</td>\n",
       "      <td>...</td>\n",
       "      <td>3.000000</td>\n",
       "      <td>37.000000</td>\n",
       "      <td>8.000000</td>\n",
       "      <td>6.000000</td>\n",
       "      <td>1.000000</td>\n",
       "      <td>1.000000</td>\n",
       "      <td>10.000000</td>\n",
       "      <td>1.000000</td>\n",
       "      <td>97.000000</td>\n",
       "      <td>4.000000</td>\n",
       "    </tr>\n",
       "  </tbody>\n",
       "</table>\n",
       "<p>8 rows × 34 columns</p>\n",
       "</div>"
      ],
      "text/plain": [
       "       overcrowding_by_bedrooms        rooms  overcrowding_by_rooms  \\\n",
       "count               9557.000000  9557.000000            9557.000000   \n",
       "mean                   0.038087     4.955530               0.023648   \n",
       "std                    0.191417     1.468381               0.151957   \n",
       "min                    0.000000     1.000000               0.000000   \n",
       "25%                    0.000000     4.000000               0.000000   \n",
       "50%                    0.000000     5.000000               0.000000   \n",
       "75%                    0.000000     6.000000               0.000000   \n",
       "max                    1.000000    11.000000               1.000000   \n",
       "\n",
       "          bathroom  refrigerator  num_tablets  males_under_12  males_over_12  \\\n",
       "count  9557.000000   9557.000000  2215.000000     9557.000000    9557.000000   \n",
       "mean      0.994768      0.957623     1.404063        0.385895       1.559171   \n",
       "std       0.072145      0.201459     0.763131        0.680779       1.036574   \n",
       "min       0.000000      0.000000     1.000000        0.000000       0.000000   \n",
       "25%       1.000000      1.000000     1.000000        0.000000       1.000000   \n",
       "50%       1.000000      1.000000     1.000000        0.000000       1.000000   \n",
       "75%       1.000000      1.000000     2.000000        1.000000       2.000000   \n",
       "max       1.000000      1.000000     6.000000        5.000000       8.000000   \n",
       "\n",
       "         num_males  females_under_12     ...       num_over_65  \\\n",
       "count  9557.000000       9557.000000     ...       9557.000000   \n",
       "mean      1.945066          0.399184     ...          0.284085   \n",
       "std       1.188852          0.692460     ...          0.597163   \n",
       "min       0.000000          0.000000     ...          0.000000   \n",
       "25%       1.000000          0.000000     ...          0.000000   \n",
       "50%       2.000000          0.000000     ...          0.000000   \n",
       "75%       3.000000          1.000000     ...          0.000000   \n",
       "max       8.000000          6.000000     ...          3.000000   \n",
       "\n",
       "       mean_edu_adults  num_bedrooms  overcrowding_persons_per_room  \\\n",
       "count      9552.000000   9557.000000                    9557.000000   \n",
       "mean          9.231523      2.739981                       1.605380   \n",
       "std           4.167694      0.944507                       0.819946   \n",
       "min           0.000000      1.000000                       0.200000   \n",
       "25%           6.000000      2.000000                       1.000000   \n",
       "50%           9.000000      3.000000                       1.500000   \n",
       "75%          11.600000      3.000000                       2.000000   \n",
       "max          37.000000      8.000000                       6.000000   \n",
       "\n",
       "          computer           tv  num_mobile_phones        urban          age  \\\n",
       "count  9557.000000  9557.000000        9557.000000  9557.000000  9557.000000   \n",
       "mean      0.102124     0.284608           2.821492     0.714555    34.303547   \n",
       "std       0.302827     0.451251           1.483249     0.451650    21.612261   \n",
       "min       0.000000     0.000000           0.000000     0.000000     0.000000   \n",
       "25%       0.000000     0.000000           2.000000     0.000000    17.000000   \n",
       "50%       0.000000     0.000000           3.000000     1.000000    31.000000   \n",
       "75%       0.000000     1.000000           4.000000     1.000000    51.000000   \n",
       "max       1.000000     1.000000          10.000000     1.000000    97.000000   \n",
       "\n",
       "            Target  \n",
       "count  9557.000000  \n",
       "mean      3.302292  \n",
       "std       1.009565  \n",
       "min       1.000000  \n",
       "25%       3.000000  \n",
       "50%       4.000000  \n",
       "75%       4.000000  \n",
       "max       4.000000  \n",
       "\n",
       "[8 rows x 34 columns]"
      ]
     },
     "execution_count": 7,
     "metadata": {},
     "output_type": "execute_result"
    }
   ],
   "source": [
    "df.describe()"
   ]
  },
  {
   "cell_type": "code",
   "execution_count": 8,
   "metadata": {},
   "outputs": [
    {
     "data": {
      "text/plain": [
       "overcrowding_by_bedrooms            0\n",
       "rooms                               0\n",
       "overcrowding_by_rooms               0\n",
       "bathroom                            0\n",
       "refrigerator                        0\n",
       "num_tablets                      7342\n",
       "males_under_12                      0\n",
       "males_over_12                       0\n",
       "num_males                           0\n",
       "females_under_12                    0\n",
       "females_over_12                     0\n",
       "num_females                         0\n",
       "persons_under_12                    0\n",
       "persons_over_12                     0\n",
       "num_persons                         0\n",
       "size_household                      0\n",
       "number_persons_household            0\n",
       "years_school                        0\n",
       "ceiling                             0\n",
       "disable_person                      0\n",
       "female                              0\n",
       "under_10                            0\n",
       "household_id                        0\n",
       "num_minors                          0\n",
       "num_adults                          0\n",
       "num_over_65                         0\n",
       "calc_dependency                     0\n",
       "mean_edu_adults                     5\n",
       "num_bedrooms                        0\n",
       "overcrowding_persons_per_room       0\n",
       "computer                            0\n",
       "tv                                  0\n",
       "num_mobile_phones                   0\n",
       "urban                               0\n",
       "age                                 0\n",
       "Target                              0\n",
       "wall_condition                      0\n",
       "roof_condition                      0\n",
       "floor_condition                     0\n",
       "roof_material                       0\n",
       "elec_provider                       0\n",
       "wall_material                       0\n",
       "relation                            0\n",
       "education                           0\n",
       "house_ownership                     0\n",
       "region                              0\n",
       "marital_status                      0\n",
       "water_supply                        0\n",
       "cooking_supply                      0\n",
       "floor_material                      0\n",
       "sewage                              0\n",
       "thrash_disposal                     0\n",
       "dtype: int64"
      ]
     },
     "execution_count": 8,
     "metadata": {},
     "output_type": "execute_result"
    }
   ],
   "source": [
    "#5 later exploration uncovered empty strings, handled later\n",
    "df[df.columns.values].isnull().sum()"
   ]
  },
  {
   "cell_type": "code",
   "execution_count": 9,
   "metadata": {
    "collapsed": true
   },
   "outputs": [],
   "source": [
    "#5 replace nan with zero\n",
    "df.num_tablets.fillna(0, inplace = True)\n",
    "df = df.reindex()"
   ]
  },
  {
   "cell_type": "code",
   "execution_count": 10,
   "metadata": {},
   "outputs": [
    {
     "data": {
      "image/png": "[encoded data removed]",
      "text/plain": [
       "<matplotlib.figure.Figure at 0x1a16ddc8d0>"
      ]
     },
     "metadata": {},
     "output_type": "display_data"
    }
   ],
   "source": [
    "#6 strong bias to 4\n",
    "df.Target.hist(color = color);"
   ]
  },
  {
   "cell_type": "code",
   "execution_count": 27,
   "metadata": {},
   "outputs": [
    {
     "data": {
      "text/html": [
       "<div>\n",
       "<style>\n",
       "    .dataframe thead tr:only-child th {\n",
       "        text-align: right;\n",
       "    }\n",
       "\n",
       "    .dataframe thead th {\n",
       "        text-align: left;\n",
       "    }\n",
       "\n",
       "    .dataframe tbody tr th {\n",
       "        vertical-align: top;\n",
       "    }\n",
       "</style>\n",
       "<table border=\"1\" class=\"dataframe\">\n",
       "  <thead>\n",
       "    <tr style=\"text-align: right;\">\n",
       "      <th></th>\n",
       "      <th>relation</th>\n",
       "      <th>disable_person</th>\n",
       "      <th>num_persons</th>\n",
       "    </tr>\n",
       "  </thead>\n",
       "  <tbody>\n",
       "    <tr>\n",
       "      <th>126</th>\n",
       "      <td>son/daughter</td>\n",
       "      <td>0</td>\n",
       "      <td>4</td>\n",
       "    </tr>\n",
       "    <tr>\n",
       "      <th>127</th>\n",
       "      <td>spouse/partner</td>\n",
       "      <td>0</td>\n",
       "      <td>4</td>\n",
       "    </tr>\n",
       "    <tr>\n",
       "      <th>128</th>\n",
       "      <td>household_head</td>\n",
       "      <td>1</td>\n",
       "      <td>4</td>\n",
       "    </tr>\n",
       "    <tr>\n",
       "      <th>129</th>\n",
       "      <td>father/mother_inlaw</td>\n",
       "      <td>1</td>\n",
       "      <td>4</td>\n",
       "    </tr>\n",
       "  </tbody>\n",
       "</table>\n",
       "</div>"
      ],
      "text/plain": [
       "                relation  disable_person  num_persons\n",
       "126         son/daughter               0            4\n",
       "127       spouse/partner               0            4\n",
       "128       household_head               1            4\n",
       "129  father/mother_inlaw               1            4"
      ]
     },
     "execution_count": 27,
     "metadata": {},
     "output_type": "execute_result"
    }
   ],
   "source": [
    "df.query('household_id == \"52123171a\"')[['relation', 'disable_person', 'num_persons']]"
   ]
  },
  {
   "cell_type": "code",
   "execution_count": 22,
   "metadata": {},
   "outputs": [
    {
     "data": {
      "text/plain": [
       "128     52123171a\n",
       "129     52123171a\n",
       "155     347058ce6\n",
       "163     28ec0c747\n",
       "278     0473832dd\n",
       "354     bf1d89cb8\n",
       "381     b0e5fd9b2\n",
       "439     4476ccd4c\n",
       "444     4476ccd4c\n",
       "463     6f1edad4e\n",
       "489     135334d8e\n",
       "490     135334d8e\n",
       "635     fd10905bc\n",
       "670     e8725f7cb\n",
       "693     cd0157ab9\n",
       "694     cd0157ab9\n",
       "1001    52cf8fe9d\n",
       "1021    f55c4fc94\n",
       "1228    0f2682fe6\n",
       "1233    b110e9c10\n",
       "1319    340e71ea8\n",
       "1335    64d356343\n",
       "1344    64595839e\n",
       "1437    c1d6b909a\n",
       "1492    fd2369f80\n",
       "1494    fd2369f80\n",
       "1541    59e971916\n",
       "1566    be3124b4e\n",
       "1640    d66a81ad1\n",
       "1719    b6b9d2b71\n",
       "          ...    \n",
       "8410    a3674a3ee\n",
       "8493    28893b5e7\n",
       "8494    28893b5e7\n",
       "8495    43bfddbd2\n",
       "8546    94b615f8a\n",
       "8588    89f42958a\n",
       "8595    a869d0192\n",
       "8598    a869d0192\n",
       "8626    dd8a4bfcb\n",
       "8659    764424047\n",
       "8743    e235f37d4\n",
       "8755    06ca88023\n",
       "8825    536c8befb\n",
       "8868    0c7de4f5c\n",
       "8885    eb48e2a2b\n",
       "8961    2b42b5570\n",
       "8979    f09e635c1\n",
       "9004    666a9b79f\n",
       "9200    f90ed7a26\n",
       "9245    f5f3c8c37\n",
       "9337    673c6db37\n",
       "9344    b0ee52f47\n",
       "9394    c05652653\n",
       "9433    0966c7521\n",
       "9454    2ca73280c\n",
       "9476    c7ce4e30c\n",
       "9479    c7ce4e30c\n",
       "9499    029f3d736\n",
       "9541    e87e70c06\n",
       "9542    e87e70c06\n",
       "Name: household_id, Length: 226, dtype: object"
      ]
     },
     "execution_count": 22,
     "metadata": {},
     "output_type": "execute_result"
    }
   ],
   "source": [
    "df.query('disable_person == 1 and num_persons > 3')['household_id' ]"
   ]
  },
  {
   "cell_type": "code",
   "execution_count": 127,
   "metadata": {},
   "outputs": [
    {
     "data": {
      "image/png": "[encoded data removed]",
      "text/plain": [
       "<matplotlib.figure.Figure at 0x1a181697d0>"
      ]
     },
     "metadata": {},
     "output_type": "display_data"
    }
   ],
   "source": [
    "df.age.hist(color = color, bins = 25);"
   ]
  },
  {
   "cell_type": "code",
   "execution_count": 128,
   "metadata": {},
   "outputs": [
    {
     "data": {
      "image/png": "[encoded data removed]",
      "text/plain": [
       "<matplotlib.figure.Figure at 0x1a18cfd5d0>"
      ]
     },
     "metadata": {},
     "output_type": "display_data"
    }
   ],
   "source": [
    "df.mean_edu_adults.hist(color = color, bins = 20);"
   ]
  },
  {
   "cell_type": "code",
   "execution_count": 129,
   "metadata": {},
   "outputs": [
    {
     "data": {
      "image/png": "[encoded data removed]",
      "text/plain": [
       "<matplotlib.figure.Figure at 0x1a19d07a90>"
      ]
     },
     "metadata": {},
     "output_type": "display_data"
    }
   ],
   "source": [
    "#7\n",
    "plt.figure(figsize = (15,15))\n",
    "corr = df.corr()\n",
    "sn.heatmap(corr);"
   ]
  },
  {
   "cell_type": "code",
   "execution_count": 130,
   "metadata": {
    "collapsed": true
   },
   "outputs": [],
   "source": [
    "#8\n",
    "unique_id = df.household_id.unique()\n",
    "def del_no_hh(h_id):\n",
    "    count = 0\n",
    "    hh_idx = []\n",
    "    for u in h_id:\n",
    "        t_df = df.query('household_id == \"{}\"' .format(u))[['relation', 'rooms', 'household_id']]#, 'Target']]\n",
    "        if ('household_head' not in t_df.relation.values):\n",
    "            t_value = t_df.index.values\n",
    "            df.drop(t_value,inplace = True)\n",
    "            hh_idx.append(t_value)\n",
    "            count += 1\n",
    "    return count, hh_idx\n",
    "count, t_idx = del_no_hh(unique_id)"
   ]
  },
  {
   "cell_type": "code",
   "execution_count": 131,
   "metadata": {
    "collapsed": true
   },
   "outputs": [],
   "source": [
    "#9\n",
    "#set poverty level to household head level\n",
    "unique_id = df.household_id.unique()\n",
    "def set_hh_poverty(h_id):\n",
    "    for i in h_id:\n",
    "        t_df = df.query('household_id == \"{}\"' .format(i))[['relation', 'rooms', 'household_id', 'Target']]\n",
    "        if np.std(t_df.Target) != 0:\n",
    "            t_idx = t_df.index\n",
    "            target = t_df.query('relation == \"household_head\"')['Target'].values[0]\n",
    "            df.loc[t_idx, 'Target'] = target\n",
    "set_hh_poverty(unique_id)"
   ]
  },
  {
   "cell_type": "code",
   "execution_count": 132,
   "metadata": {
    "collapsed": true
   },
   "outputs": [],
   "source": [
    "#10\n",
    "#fill mean_edu_adults with mean of mean_edu_adults\n",
    "df.mean_edu_adults.fillna(df.mean_edu_adults.mean(), inplace = True)"
   ]
  },
  {
   "cell_type": "code",
   "execution_count": 133,
   "metadata": {},
   "outputs": [
    {
     "name": "stdout",
     "output_type": "stream",
     "text": [
      "(1476, 'complete_primary')\n",
      "(1481, 'complete_primary')\n",
      "(6728, 'incomplete_primary')\n"
     ]
    }
   ],
   "source": [
    "#11\n",
    "#locate empty education, find edu mode by age\n",
    "edu_idx = df.query('education == \"\"')['age'].index\n",
    "for i in edu_idx:\n",
    "    age = df.loc[i]['age']\n",
    "    edu_mode = df.query('age == {}' .format(age))['education'].mode()\n",
    "    print(i, edu_mode[0])"
   ]
  },
  {
   "cell_type": "code",
   "execution_count": 134,
   "metadata": {
    "collapsed": true
   },
   "outputs": [],
   "source": [
    "#11a\n",
    "#hardcode missing edu values from above with age edu-mode\n",
    "df.loc[6728, 'education'] = 'incomplete_primary'"
   ]
  },
  {
   "cell_type": "code",
   "execution_count": 135,
   "metadata": {},
   "outputs": [
    {
     "name": "stdout",
     "output_type": "stream",
     "text": [
      "metal                  9248\n",
      "fiber_cement            169\n",
      "                         66\n",
      "natural_fibers_roof      30\n",
      "other_roof               21\n",
      "Name: roof_material, dtype: int64\n",
      "metal                  9314\n",
      "fiber_cement            169\n",
      "natural_fibers_roof      30\n",
      "other_roof               21\n",
      "Name: roof_material, dtype: int64\n"
     ]
    }
   ],
   "source": [
    "#12\n",
    "#fill '' roof_material with metal\n",
    "print(df.roof_material.value_counts())\n",
    "df.roof_material = ['metal' if r == '' else r for r in df.roof_material]\n",
    "print(df.roof_material.value_counts())"
   ]
  },
  {
   "cell_type": "code",
   "execution_count": 136,
   "metadata": {},
   "outputs": [
    {
     "name": "stdout",
     "output_type": "stream",
     "text": [
      "public              8439\n",
      "cooperative         1056\n",
      "none_electricity      21\n",
      "                      15\n",
      "private_plant          3\n",
      "Name: elec_provider, dtype: int64\n",
      "public              8454\n",
      "cooperative         1056\n",
      "none_electricity      21\n",
      "private_plant          3\n",
      "Name: elec_provider, dtype: int64\n"
     ]
    }
   ],
   "source": [
    "#13\n",
    "#fill '' elec_provider with public\n",
    "print(df.elec_provider.value_counts())\n",
    "df.elec_provider = ['public' if r == '' else r for r in df.elec_provider]\n",
    "print(df.elec_provider.value_counts())"
   ]
  },
  {
   "cell_type": "code",
   "execution_count": 137,
   "metadata": {
    "collapsed": true
   },
   "outputs": [],
   "source": [
    "#14\n",
    "#drop repetitive data, data that doesnt help model\n",
    "df.drop(['size_household', 'number_persons_household', 'household_id', 'marital_status',\n",
    "         'relation', 'education', 'calc_dependency'], axis = 1, inplace = True)"
   ]
  },
  {
   "cell_type": "code",
   "execution_count": 138,
   "metadata": {
    "collapsed": true
   },
   "outputs": [],
   "source": [
    "#15\n",
    "#calculate new dependency\n",
    "df['new_calc_dep'] = (df.num_over_65 + df.persons_under_12)/ df.num_persons"
   ]
  },
  {
   "cell_type": "code",
   "execution_count": 139,
   "metadata": {
    "collapsed": true
   },
   "outputs": [],
   "source": [
    "#16\n",
    "#encode conditions, create overall conditions, drop ind conditions\n",
    "le =  LabelEncoder()\n",
    "df.wall_condition = le.fit_transform(df.wall_condition)\n",
    "df.floor_condition = le.fit_transform(df.floor_condition)\n",
    "df.roof_condition = le.fit_transform(df.roof_condition)\n",
    "df['overall_condition'] = (df.wall_condition + df.roof_condition + df.floor_condition) / 3\n",
    "df.drop(['wall_condition', 'roof_condition', 'floor_condition'], axis = 1, inplace = True)"
   ]
  },
  {
   "cell_type": "code",
   "execution_count": 30,
   "metadata": {
    "collapsed": true
   },
   "outputs": [],
   "source": [
    "#17\n",
    "#dummy categorical variables\n",
    "df = pd.get_dummies(df, prefix = ['roof_material', 'elec_provider', 'wall_material', 'house_ownership',\n",
    "                             'region', 'water_supply', 'cooking_supply',\n",
    "                             'floor_material', 'sewage', 'thrash_disposal'], columns = ['roof_material','elec_provider', 'wall_material', 'house_ownership',\n",
    "                             'region', 'water_supply', 'cooking_supply',\n",
    "                             'floor_material', 'sewage', 'thrash_disposal'])"
   ]
  },
  {
   "cell_type": "code",
   "execution_count": 31,
   "metadata": {
    "collapsed": true
   },
   "outputs": [],
   "source": [
    "df.to_csv('clean_income.csv', index = False)"
   ]
  }
 ],
 "metadata": {
  "kernelspec": {
   "display_name": "Python 2",
   "language": "python",
   "name": "python2"
  },
  "language_info": {
   "codemirror_mode": {
    "name": "ipython",
    "version": 2
   },
   "file_extension": ".py",
   "mimetype": "text/x-python",
   "name": "python",
   "nbconvert_exporter": "python",
   "pygments_lexer": "ipython2",
   "version": "2.7.3"
  }
 },
 "nbformat": 4,
 "nbformat_minor": 2
}
