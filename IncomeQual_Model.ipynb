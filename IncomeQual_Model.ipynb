{
 "cells": [
  {
   "cell_type": "code",
   "execution_count": 1,
   "metadata": {},
   "outputs": [],
   "source": [
    "import pandas as pd\n",
    "import matplotlib.pyplot as plt\n",
    "import numpy as np\n",
    "from sklearn.metrics import confusion_matrix, accuracy_score, f1_score\n",
    "from sklearn.ensemble import RandomForestClassifier\n",
    "from sklearn.model_selection import train_test_split\n",
    "import seaborn as sn\n",
    "from sklearn.decomposition import PCA"
   ]
  },
  {
   "cell_type": "code",
   "execution_count": 2,
   "metadata": {
    "collapsed": true
   },
   "outputs": [],
   "source": [
    "#features to pca\n",
    "to_pca = ['roof_material_fiber_cement', 'roof_material_metal',\n",
    "       'roof_material_natural_fibers_roof', 'roof_material_other_roof',\n",
    "       'elec_provider_cooperative', 'elec_provider_none_electricity',\n",
    "       'elec_provider_private_plant', 'elec_provider_public',\n",
    "       'wall_material_block_brick', 'wall_material_natural_fibers',\n",
    "       'wall_material_other_wall', 'wall_material_prefabricated_cement',\n",
    "       'wall_material_waste_material', 'wall_material_wood',\n",
    "       'wall_material_wood_zinc_absbesto', 'wall_material_zink',\n",
    "       'house_ownership_other_house', 'house_ownership_own',\n",
    "       'house_ownership_own_installments', 'house_ownership_precarious',\n",
    "       'house_ownership_rented', 'region_brunca', 'region_central',\n",
    "       'region_chorotega', 'region_huetar_atlantic', 'region_huetar_norte',\n",
    "       'region_pacific_central', 'water_supply_inside',\n",
    "       'water_supply_outside', 'water_supply_water_none',\n",
    "       'cooking_supply_charcoal', 'cooking_supply_electricity',\n",
    "       'cooking_supply_energy_none', 'cooking_supply_gas',\n",
    "       'floor_material_cement', 'floor_material_natural_material_floor',\n",
    "       'floor_material_none_floor', 'floor_material_other_floor',\n",
    "       'floor_material_tile', 'floor_material_wood_floor',\n",
    "       'sewage_letrine', 'sewage_no_toilet', 'sewage_other_sewage',\n",
    "       'sewage_septic_tank', 'sewage_sewer_cesspool',\n",
    "       'thrash_disposal_burning', 'thrash_disposal_hollow_buried',\n",
    "       'thrash_disposal_other_disposal', 'thrash_disposal_tanker truck',\n",
    "       'thrash_disposal_throwing_space']"
   ]
  },
  {
   "cell_type": "code",
   "execution_count": 3,
   "metadata": {
    "collapsed": true
   },
   "outputs": [],
   "source": [
    "df = pd.read_csv('clean_income.csv')"
   ]
  },
  {
   "cell_type": "code",
   "execution_count": 4,
   "metadata": {},
   "outputs": [
    {
     "data": {
      "text/plain": [
       "0"
      ]
     },
     "execution_count": 4,
     "metadata": {},
     "output_type": "execute_result"
    }
   ],
   "source": [
    "#1 check for null data\n",
    "np.sum(df.isnull().sum())"
   ]
  },
  {
   "cell_type": "code",
   "execution_count": 5,
   "metadata": {},
   "outputs": [
    {
     "name": "stdout",
     "output_type": "stream",
     "text": [
      "False    9516\n",
      "True       18\n",
      "dtype: int64\n"
     ]
    }
   ],
   "source": [
    "#2 drop duplicate values\n",
    "print(df.duplicated().value_counts())\n",
    "df.drop_duplicates(inplace = True)"
   ]
  },
  {
   "cell_type": "code",
   "execution_count": 6,
   "metadata": {
    "collapsed": true
   },
   "outputs": [],
   "source": [
    "#3 split train, test\n",
    "x_train, x_test, y_train, y_test = train_test_split(df.drop('Target', axis = 1), df.Target, test_size = .2)"
   ]
  },
  {
   "cell_type": "code",
   "execution_count": 7,
   "metadata": {},
   "outputs": [
    {
     "name": "stdout",
     "output_type": "stream",
     "text": [
      "0.845137821905\n"
     ]
    }
   ],
   "source": [
    "#4 Fit PCA, 7 components determined experimentally.\n",
    "pca_train = x_train[to_pca]\n",
    "pca_test = x_test[to_pca]\n",
    "pca = PCA(n_components = 13)#7\n",
    "train_idx = pca_train.index.values\n",
    "test_idx = pca_test.index.values\n",
    "train_pcas = pd.DataFrame(pca.fit_transform(pca_train), index = train_idx)\n",
    "test_pcas = pd.DataFrame(pca.transform(pca_test), index = test_idx)\n",
    "print(np.sum(pca.explained_variance_ratio_))\n"
   ]
  },
  {
   "cell_type": "code",
   "execution_count": 8,
   "metadata": {
    "collapsed": true
   },
   "outputs": [],
   "source": [
    "#5 Drop pca build features, concatenate new features.\n",
    "x_train.drop(to_pca, axis = 1, inplace = True)\n",
    "x_test.drop(to_pca, axis = 1, inplace = True)\n",
    "x_train = pd.concat([x_train, train_pcas], axis = 1)\n",
    "x_test = pd.concat([x_test, test_pcas], axis = 1)"
   ]
  },
  {
   "cell_type": "code",
   "execution_count": 9,
   "metadata": {},
   "outputs": [
    {
     "data": {
      "text/plain": [
       "0.96218487394957986"
      ]
     },
     "execution_count": 9,
     "metadata": {},
     "output_type": "execute_result"
    }
   ],
   "source": [
    "#6 Fit Random Forest Model. Accuracy score is relatively high.\n",
    "weights = {1 : 15, 2 : 5, 3 : 10, 4 : 1}\n",
    "model = RandomForestClassifier(criterion= 'entropy', min_samples_split= 2, max_depth = 20,\n",
    "                                min_samples_leaf = 2, n_estimators = 60, class_weight = weights) \n",
    "\n",
    "model.fit(x_train, y_train)\n",
    "    \n",
    "preds = model.predict(x_test)\n",
    "score = accuracy_score(y_test, preds)\n",
    "score"
   ]
  },
  {
   "cell_type": "code",
   "execution_count": 10,
   "metadata": {},
   "outputs": [
    {
     "data": {
      "text/plain": [
       "array([[ 149,    4,    0,    6],\n",
       "       [   3,  298,    7,   23],\n",
       "       [   0,    3,  208,    6],\n",
       "       [   3,    4,   13, 1177]])"
      ]
     },
     "execution_count": 10,
     "metadata": {},
     "output_type": "execute_result"
    }
   ],
   "source": [
    "#7 print confusion matrix\n",
    "cm = confusion_matrix(y_test, preds)\n",
    "cm"
   ]
  },
  {
   "cell_type": "code",
   "execution_count": 11,
   "metadata": {},
   "outputs": [
    {
     "data": {
      "image/png": "[encoded data removed]",
      "text/plain": [
       "<matplotlib.figure.Figure at 0x1a0d8df4d0>"
      ]
     },
     "metadata": {},
     "output_type": "display_data"
    }
   ],
   "source": [
    "#8 cm visually\n",
    "value_counts = y_test.value_counts()\n",
    "df_cm = pd.DataFrame(confusion_matrix(y_test, preds), range(4), range(4))\n",
    "df_cm = df_cm.divide([value_counts.loc[1], value_counts.loc[2], value_counts.loc[3], value_counts.loc[4]])\n",
    "sn.set(font_scale=1.4) \n",
    "cmap = sn.dark_palette(\"lightblue\", as_cmap=True)\n",
    "sn.heatmap(df_cm, annot=True, annot_kws={\"size\": 16}, cmap = cmap) \n",
    "plt.title('Recall')\n",
    "plt.show()"
   ]
  },
  {
   "cell_type": "code",
   "execution_count": 12,
   "metadata": {},
   "outputs": [
    {
     "data": {
      "text/plain": [
       "array([ 0.94904459,  0.93125   ,  0.93483146,  0.97716895])"
      ]
     },
     "execution_count": 12,
     "metadata": {},
     "output_type": "execute_result"
    }
   ],
   "source": [
    "#9 f1 scores\n",
    "f1_score(y_test, preds, average=None)"
   ]
  }
 ],
 "metadata": {
  "kernelspec": {
   "display_name": "Python 2",
   "language": "python",
   "name": "python2"
  },
  "language_info": {
   "codemirror_mode": {
    "name": "ipython",
    "version": 2
   },
   "file_extension": ".py",
   "mimetype": "text/x-python",
   "name": "python",
   "nbconvert_exporter": "python",
   "pygments_lexer": "ipython2",
   "version": "2.7.3"
  }
 },
 "nbformat": 4,
 "nbformat_minor": 2
}
